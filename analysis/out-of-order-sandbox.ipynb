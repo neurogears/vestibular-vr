{
 "cells": [
  {
   "cell_type": "code",
   "execution_count": null,
   "metadata": {},
   "outputs": [],
   "source": [
    "import harp\n",
    "import pandas as pd\n",
    "from glob import glob\n",
    "import matplotlib.pyplot as plt\n",
    "from functools import reduce\n",
    "import cv2\n",
    "import numpy as np\n",
    "import utils\n",
    "import aeon.io.video as video\n",
    "import aeon.analysis.movies as frame_helpers\n",
    "from aeon.io.reader import Reader, Csv\n",
    "from dotmap import DotMap\n",
    "import aeon.io.api as api\n",
    "import os\n",
    "\n",
    "root_folder = r'C:/Users/neurogears/source/repos/vestibular-vr/temp_data/2024-08-13T11-20-23_B3M1/'\n",
    "h1_datafolder = r'C:/Users/neurogears/source/repos/vestibular-vr/temp_data/2024-08-13T11-20-23_B3M1/HarpDataH1/'\n",
    "h2_datafolder = r'C:/Users/neurogears/source/repos/vestibular-vr/temp_data/2024-08-13T11-20-23_B3M1/HarpDataH2/'\n",
    "\n",
    "h1_reader = harp.create_reader('h1-device.yml', epoch=harp.REFERENCE_EPOCH)\n",
    "h2_reader = harp.create_reader('h2-device.yml', epoch=harp.REFERENCE_EPOCH)\n",
    "session_data_reader = utils.SessionData(\"SessionSettings\")\n",
    "experiment_events_reader = utils.TimestampedCsvReader(\"ExperimentEvents\", columns=[\"Event\"])\n",
    "framecount_reader = utils.TimestampedCsvReader(\"OnixAnalogFrameCount\", columns=[\"Index\"])\n",
    "photometry_reader = utils.PhotometryReader(\"Fluorescence\")\n",
    "video_reader = utils.Video(\"VideoData1\")\n",
    "onix_digital_reader = utils.TimestampedCsvReader(\"OnixDigital\", columns=[\"Buttons\", \"Links\", \"Port\", \"Clock\", \"HubSyncCounter\"])"
   ]
  }
 ],
 "metadata": {
  "language_info": {
   "name": "python"
  }
 },
 "nbformat": 4,
 "nbformat_minor": 2
}
