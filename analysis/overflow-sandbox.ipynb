{
 "cells": [
  {
   "cell_type": "code",
   "execution_count": 10,
   "metadata": {},
   "outputs": [],
   "source": [
    "import harp\n",
    "import pandas as pd\n",
    "from glob import glob\n",
    "import matplotlib.pyplot as plt\n",
    "from functools import reduce\n",
    "import cv2\n",
    "import numpy as np\n",
    "import utils\n",
    "import aeon.io.video as video\n",
    "import aeon.analysis.movies as frame_helpers\n",
    "from aeon.io.reader import Reader, Csv\n",
    "from dotmap import DotMap\n",
    "import aeon.io.api as api\n",
    "import os\n",
    "\n",
    "root_folder = r'C:/Users/erski/source/repos/neurogears/vestibular-vr/temp_data/2024-08-07T09-46-19_B2M5-20250115T120418Z-001/2024-08-07T09-46-19_B2M5/'\n",
    "root_folder_photometry = r'C:/Users/erski/source/repos/neurogears/vestibular-vr/temp_data/2024-08-07T09-46-19_B2M5-20250115T120418Z-001/2024-08-07T09-46-19_B2M5/photometry'\n",
    "\n",
    "h1_reader = harp.create_reader('h1-device.yml', epoch=harp.REFERENCE_EPOCH)\n",
    "h2_reader = harp.create_reader('h2-device.yml', epoch=harp.REFERENCE_EPOCH)\n",
    "session_data_reader = utils.SessionData(\"SessionSettings\")\n",
    "experiment_events_reader = utils.TimestampedCsvReader(\"ExperimentEvents\", columns=[\"Event\"])\n",
    "framecount_reader = utils.TimestampedCsvReader(\"OnixAnalogFrameCount\", columns=[\"Index\"])\n",
    "photometry_reader = utils.PhotometryReader(\"Fluorescence\")\n",
    "video_reader = utils.Video(\"VideoData1\")\n",
    "onix_digital_reader = utils.TimestampedCsvReader(\"OnixDigital\", columns=[\"Clock\", \"HubClock\", \"DigitalInputs\", \"Buttons\"])\n",
    "onix_harp_reader = utils.TimestampedCsvReader(\"OnixHarp\", columns=[\"Clock\", \"HubClock\", \"HarpTime\"])\n",
    "\n",
    "h1_datafolder = r'C:/Users/erski/source/repos/neurogears/vestibular-vr/temp_data/2024-08-07T09-46-19_B2M5-20250115T120418Z-001/2024-08-07T09-46-19_B2M5/HarpDataH1/'\n",
    "h2_datafolder = r'C:/Users/erski/source/repos/neurogears/vestibular-vr/temp_data/2024-08-07T09-46-19_B2M5-20250115T120418Z-001/2024-08-07T09-46-19_B2M5/HarpDataH2/'"
   ]
  },
  {
   "cell_type": "code",
   "execution_count": 11,
   "metadata": {},
   "outputs": [
    {
     "name": "stdout",
     "output_type": "stream",
     "text": [
      "                                                                     metadata\n",
      "1904-01-08 21:25:10.230240  {'motorSettings': {'nominalPulseInterval': 200...\n",
      "DotMap(randomDelay=0.5, minumumDelay=0.1, haltTime=1.0, haltGain=1.0)\n"
     ]
    }
   ],
   "source": [
    "# read experiment metadata\n",
    "session_settings = utils.load(session_data_reader, root_folder)\n",
    "\n",
    "print(session_settings)\n",
    "print(session_settings.iloc[0]['metadata'].blocks[1].haltProtocol)"
   ]
  },
  {
   "cell_type": "code",
   "execution_count": 12,
   "metadata": {},
   "outputs": [
    {
     "name": "stdout",
     "output_type": "stream",
     "text": [
      "                            OpticalTrackingRead0X  OpticalTrackingRead0Y  \\\n",
      "Time                                                                       \n",
      "1904-01-08 21:25:10.230240                     -3                     -1   \n",
      "1904-01-08 21:25:10.240256                      0                      0   \n",
      "1904-01-08 21:25:10.250240                      1                      0   \n",
      "1904-01-08 21:25:10.260256                      2                      1   \n",
      "1904-01-08 21:25:10.270240                      1                      0   \n",
      "...                                           ...                    ...   \n",
      "1904-01-08 21:58:18.610240                    -10                      5   \n",
      "1904-01-08 21:58:18.620256                    -32                      2   \n",
      "1904-01-08 21:58:18.630240                    -47                     -3   \n",
      "1904-01-08 21:58:18.640256                    -46                     -1   \n",
      "1904-01-08 21:58:18.650240                    -40                      4   \n",
      "\n",
      "                            OpticalTrackingRead0Brightness  \\\n",
      "Time                                                         \n",
      "1904-01-08 21:25:10.230240                              63   \n",
      "1904-01-08 21:25:10.240256                              64   \n",
      "1904-01-08 21:25:10.250240                              69   \n",
      "1904-01-08 21:25:10.260256                              61   \n",
      "1904-01-08 21:25:10.270240                              63   \n",
      "...                                                    ...   \n",
      "1904-01-08 21:58:18.610240                              65   \n",
      "1904-01-08 21:58:18.620256                              70   \n",
      "1904-01-08 21:58:18.630240                              68   \n",
      "1904-01-08 21:58:18.640256                              67   \n",
      "1904-01-08 21:58:18.650240                              65   \n",
      "\n",
      "                            OpticalTrackingRead1X  OpticalTrackingRead1Y  \\\n",
      "Time                                                                       \n",
      "1904-01-08 21:25:10.230240                      0                      0   \n",
      "1904-01-08 21:25:10.240256                      0                      0   \n",
      "1904-01-08 21:25:10.250240                      0                      0   \n",
      "1904-01-08 21:25:10.260256                      0                      0   \n",
      "1904-01-08 21:25:10.270240                      0                      0   \n",
      "...                                           ...                    ...   \n",
      "1904-01-08 21:58:18.610240                      0                      0   \n",
      "1904-01-08 21:58:18.620256                      0                      0   \n",
      "1904-01-08 21:58:18.630240                      0                      0   \n",
      "1904-01-08 21:58:18.640256                      0                      0   \n",
      "1904-01-08 21:58:18.650240                      0                      0   \n",
      "\n",
      "                            OpticalTrackingRead1Brightness  \n",
      "Time                                                        \n",
      "1904-01-08 21:25:10.230240                               0  \n",
      "1904-01-08 21:25:10.240256                               0  \n",
      "1904-01-08 21:25:10.250240                               0  \n",
      "1904-01-08 21:25:10.260256                               0  \n",
      "1904-01-08 21:25:10.270240                               0  \n",
      "...                                                    ...  \n",
      "1904-01-08 21:58:18.610240                               0  \n",
      "1904-01-08 21:58:18.620256                               0  \n",
      "1904-01-08 21:58:18.630240                               0  \n",
      "1904-01-08 21:58:18.640256                               0  \n",
      "1904-01-08 21:58:18.650240                               0  \n",
      "\n",
      "[198843 rows x 6 columns]\n"
     ]
    }
   ],
   "source": [
    "flow_sensor = utils.load_harp(h1_reader.OpticalTrackingRead, h1_datafolder)\n",
    "\n",
    "print(flow_sensor)"
   ]
  },
  {
   "cell_type": "code",
   "execution_count": null,
   "metadata": {},
   "outputs": [],
   "source": []
  }
 ],
 "metadata": {
  "kernelspec": {
   "display_name": ".venv",
   "language": "python",
   "name": "python3"
  },
  "language_info": {
   "codemirror_mode": {
    "name": "ipython",
    "version": 3
   },
   "file_extension": ".py",
   "mimetype": "text/x-python",
   "name": "python",
   "nbconvert_exporter": "python",
   "pygments_lexer": "ipython3",
   "version": "3.12.3"
  }
 },
 "nbformat": 4,
 "nbformat_minor": 2
}
