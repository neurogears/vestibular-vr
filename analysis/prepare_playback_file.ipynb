{
 "cells": [
  {
   "cell_type": "code",
   "execution_count": 16,
   "metadata": {},
   "outputs": [],
   "source": [
    "import harp\n",
    "import pandas as pd\n",
    "from glob import glob\n",
    "import matplotlib.pyplot as plt\n",
    "from functools import reduce\n",
    "import utils\n",
    "import numpy as np\n",
    "\n",
    "harp_reader = harp.create_reader('h1-device.yml', epoch=harp.REFERENCE_EPOCH)\n",
    "session_data_reader = utils.SessionData()\n",
    "\n",
    "harp_datafolder = r'C:/temp/2024-05-10T13-57-39/HarpDataH1/'\n",
    "settings_datafolder = r'C:/temp/2024-05-10T13-57-39/SessionSettings/'"
   ]
  },
  {
   "cell_type": "code",
   "execution_count": 17,
   "metadata": {},
   "outputs": [
    {
     "name": "stdout",
     "output_type": "stream",
     "text": [
      "                                                                     metadata\n",
      "1904-01-03 23:02:35.000256  {'motorSettings': {'nominalPulseInterval': 200...\n"
     ]
    }
   ],
   "source": [
    "# read experiment metadata\n",
    "session_settings = utils.load_json(session_data_reader, settings_datafolder)\n",
    "\n",
    "print(session_settings)"
   ]
  },
  {
   "cell_type": "code",
   "execution_count": 18,
   "metadata": {},
   "outputs": [
    {
     "name": "stdout",
     "output_type": "stream",
     "text": [
      "                            OpticalTrackingRead0X  OpticalTrackingRead0Y  \\\n",
      "Time                                                                       \n",
      "1904-01-03 23:02:35.000256                    862                    116   \n",
      "1904-01-03 23:02:35.010240                    847                    112   \n",
      "1904-01-03 23:02:35.020256                    858                    113   \n",
      "1904-01-03 23:02:35.030240                    845                    110   \n",
      "1904-01-03 23:02:35.040256                    840                    110   \n",
      "...                                           ...                    ...   \n",
      "1904-01-03 23:03:36.440256                    688                    336   \n",
      "1904-01-03 23:03:36.450240                    677                    329   \n",
      "1904-01-03 23:03:36.460256                    690                    336   \n",
      "1904-01-03 23:03:36.470240                    672                    331   \n",
      "1904-01-03 23:03:36.480256                    668                    328   \n",
      "\n",
      "                            OpticalTrackingRead0Brightness  \\\n",
      "Time                                                         \n",
      "1904-01-03 23:02:35.000256                              66   \n",
      "1904-01-03 23:02:35.010240                              75   \n",
      "1904-01-03 23:02:35.020256                              64   \n",
      "1904-01-03 23:02:35.030240                              78   \n",
      "1904-01-03 23:02:35.040256                              60   \n",
      "...                                                    ...   \n",
      "1904-01-03 23:03:36.440256                              56   \n",
      "1904-01-03 23:03:36.450240                              67   \n",
      "1904-01-03 23:03:36.460256                              48   \n",
      "1904-01-03 23:03:36.470240                              50   \n",
      "1904-01-03 23:03:36.480256                              79   \n",
      "\n",
      "                            OpticalTrackingRead1X  OpticalTrackingRead1Y  \\\n",
      "Time                                                                       \n",
      "1904-01-03 23:02:35.000256                      0                      0   \n",
      "1904-01-03 23:02:35.010240                      0                      0   \n",
      "1904-01-03 23:02:35.020256                      0                      0   \n",
      "1904-01-03 23:02:35.030240                      0                      0   \n",
      "1904-01-03 23:02:35.040256                      0                      0   \n",
      "...                                           ...                    ...   \n",
      "1904-01-03 23:03:36.440256                      0                      0   \n",
      "1904-01-03 23:03:36.450240                      0                      0   \n",
      "1904-01-03 23:03:36.460256                      0                      0   \n",
      "1904-01-03 23:03:36.470240                      0                      0   \n",
      "1904-01-03 23:03:36.480256                      0                      0   \n",
      "\n",
      "                            OpticalTrackingRead1Brightness  \n",
      "Time                                                        \n",
      "1904-01-03 23:02:35.000256                               0  \n",
      "1904-01-03 23:02:35.010240                               0  \n",
      "1904-01-03 23:02:35.020256                               0  \n",
      "1904-01-03 23:02:35.030240                               0  \n",
      "1904-01-03 23:02:35.040256                               0  \n",
      "...                                                    ...  \n",
      "1904-01-03 23:03:36.440256                               0  \n",
      "1904-01-03 23:03:36.450240                               0  \n",
      "1904-01-03 23:03:36.460256                               0  \n",
      "1904-01-03 23:03:36.470240                               0  \n",
      "1904-01-03 23:03:36.480256                               0  \n",
      "\n",
      "[6149 rows x 6 columns]\n"
     ]
    },
    {
     "data": {
      "text/plain": [
       "[<matplotlib.lines.Line2D at 0x179ec133690>]"
      ]
     },
     "execution_count": 18,
     "metadata": {},
     "output_type": "execute_result"
    },
    {
     "data": {
      "image/png": "[encoded data removed]",
      "text/plain": [
       "<Figure size 640x480 with 1 Axes>"
      ]
     },
     "metadata": {},
     "output_type": "display_data"
    }
   ],
   "source": [
    "# read harp stream\n",
    "flow_sensor = utils.load(harp_reader.OpticalTrackingRead, harp_datafolder)\n",
    "print(flow_sensor)\n",
    "\n",
    "plt.figure()\n",
    "plt.plot(flow_sensor['OpticalTrackingRead0X'])"
   ]
  },
  {
   "cell_type": "code",
   "execution_count": 19,
   "metadata": {},
   "outputs": [
    {
     "name": "stdout",
     "output_type": "stream",
     "text": [
      "[862 847 858 ... 690 672 668]\n"
     ]
    }
   ],
   "source": [
    "# Convert to a playback file\n",
    "output_data = flow_sensor['OpticalTrackingRead0X']\n",
    "print(output_data.values)\n",
    "\n",
    "np.savetxt(\"playback_file.csv\", output_data.values, delimiter=\",\")"
   ]
  },
  {
   "cell_type": "code",
   "execution_count": null,
   "metadata": {},
   "outputs": [],
   "source": []
  }
 ],
 "metadata": {
  "kernelspec": {
   "display_name": "Python 3",
   "language": "python",
   "name": "python3"
  },
  "language_info": {
   "codemirror_mode": {
    "name": "ipython",
    "version": 3
   },
   "file_extension": ".py",
   "mimetype": "text/x-python",
   "name": "python",
   "nbconvert_exporter": "python",
   "pygments_lexer": "ipython3",
   "version": "3.11.8"
  }
 },
 "nbformat": 4,
 "nbformat_minor": 2
}
