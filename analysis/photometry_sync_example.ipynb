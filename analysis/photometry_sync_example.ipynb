{
 "cells": [
  {
   "cell_type": "code",
   "execution_count": null,
   "metadata": {},
   "outputs": [],
   "source": [
    "import harp\n",
    "import pandas as pd\n",
    "from glob import glob\n",
    "import matplotlib.pyplot as plt\n",
    "from functools import reduce\n",
    "import cv2\n",
    "import numpy as np\n",
    "import utils\n",
    "import aeon.io.video as video\n",
    "import aeon.analysis.movies as frame_helpers\n",
    "from dotmap import DotMap\n",
    "\n",
    "harp_reader = harp.create_reader('h1-device.yml', epoch=harp.REFERENCE_EPOCH)\n",
    "session_data_reader = utils.SessionData()\n",
    "\n",
    "h1_datafolder = r'C:/temp/2024-05-07T15-22-53/HarpDataH1/'\n",
    "h2_datafolder = r'C:/temp/2024-05-07T15-22-53/HarpDataH2/'\n",
    "settings_datafolder = r'C:/temp/2024-05-07T15-22-53/SessionSettings/'"
   ]
  }
 ],
 "metadata": {
  "language_info": {
   "name": "python"
  }
 },
 "nbformat": 4,
 "nbformat_minor": 2
}
