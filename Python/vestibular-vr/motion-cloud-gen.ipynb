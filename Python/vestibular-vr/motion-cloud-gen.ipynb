{
 "cells": [
  {
   "cell_type": "code",
   "execution_count": 2,
   "metadata": {},
   "outputs": [],
   "source": [
    "# Package imports\n",
    "import MotionClouds as mc\n",
    "import numpy as np"
   ]
  },
  {
   "cell_type": "code",
   "execution_count": 3,
   "metadata": {},
   "outputs": [],
   "source": [
    "# define Fourier domain\n",
    "fx, fy, ft = mc.get_grids(mc.N_X, mc.N_Y, mc.N_frame * 2)\n",
    "# define an envelope\n",
    "envelope = mc.envelope_gabor(fx, fy, ft,\n",
    "    V_X=1., V_Y=0., B_V=.1,\n",
    "    sf_0=.15, B_sf=.1,\n",
    "    theta=0., B_theta=np.pi/8, alpha=1.)\n",
    "\n",
    "movie = mc.random_cloud(envelope)\n",
    "movie = mc.rectif(movie)"
   ]
  },
  {
   "cell_type": "code",
   "execution_count": 5,
   "metadata": {},
   "outputs": [
    {
     "name": "stdout",
     "output_type": "stream",
     "text": [
      "Saving sequence test-cloud as a .mp4 format\n"
     ]
    }
   ],
   "source": [
    "mc.anim_save(movie, 'test-cloud', display=False, verbose=True, vext='.mp4')"
   ]
  }
 ],
 "metadata": {
  "kernelspec": {
   "display_name": "Python 3",
   "language": "python",
   "name": "python3"
  },
  "language_info": {
   "codemirror_mode": {
    "name": "ipython",
    "version": 3
   },
   "file_extension": ".py",
   "mimetype": "text/x-python",
   "name": "python",
   "nbconvert_exporter": "python",
   "pygments_lexer": "ipython3",
   "version": "3.11.8"
  }
 },
 "nbformat": 4,
 "nbformat_minor": 2
}
